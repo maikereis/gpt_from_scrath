{
 "cells": [
  {
   "cell_type": "code",
   "execution_count": 64,
   "metadata": {},
   "outputs": [
    {
     "name": "stdout",
     "output_type": "stream",
     "text": [
      "The autoreload extension is already loaded. To reload it, use:\n",
      "  %reload_ext autoreload\n"
     ]
    }
   ],
   "source": [
    "%load_ext autoreload\n",
    "%autoreload 2"
   ]
  },
  {
   "cell_type": "code",
   "execution_count": 65,
   "metadata": {},
   "outputs": [],
   "source": [
    "import torch\n",
    "import tiktoken\n",
    "from pathlib import Path\n",
    "\n",
    "tokenizer = tiktoken.get_encoding(\"gpt2\")\n",
    "\n",
    "from src.model import GPTModel, TransformerDecoder\n",
    "from src.token import token_ids_to_text, text_to_token_ids\n",
    "from src.train import (\n",
    "    train_model_simple,\n",
    ")\n",
    "from src.generate import generate\n",
    "from src.loader import create_dataloader_v1\n",
    "\n",
    "\n",
    "device = torch.device('cuda' if torch.cuda.is_available() else 'cpu')"
   ]
  },
  {
   "cell_type": "code",
   "execution_count": 66,
   "metadata": {},
   "outputs": [],
   "source": [
    "model_configs = {\n",
    "    \"vocab_size\": 50257,  # Vocabulary size\n",
    "    \"context_length\": 256,  # Context length\n",
    "    \"emb_dim\": 768,  # Embedding dimension\n",
    "    \"n_heads\": 12,  # Number of attention heads\n",
    "    \"n_layers\": 12,  # Number of layers\n",
    "    \"drop_rate\": 0.1,  # Dropout rate\n",
    "    \"qkv_bias\": False,  # Query-Key-Value bias\n",
    "}"
   ]
  },
  {
   "cell_type": "markdown",
   "metadata": {},
   "source": [
    "### Load data"
   ]
  },
  {
   "cell_type": "code",
   "execution_count": 67,
   "metadata": {},
   "outputs": [],
   "source": [
    "\n",
    "file_path = Path('data/the-verdict.txt')\n",
    "\n",
    "with open(file_path, 'r', encoding='utf-8') as file:\n",
    "    text_data = file.read()"
   ]
  },
  {
   "cell_type": "code",
   "execution_count": 68,
   "metadata": {},
   "outputs": [
    {
     "name": "stdout",
     "output_type": "stream",
     "text": [
      "Characters: 20479\n",
      "Tokens: 5145\n"
     ]
    }
   ],
   "source": [
    "total_characters = len(text_data)\n",
    "total_tokens = len(tokenizer.encode(text_data))\n",
    "print(\"Characters:\", total_characters)\n",
    "print(\"Tokens:\", total_tokens)"
   ]
  },
  {
   "cell_type": "markdown",
   "metadata": {},
   "source": [
    "### Split train and test"
   ]
  },
  {
   "cell_type": "code",
   "execution_count": 69,
   "metadata": {},
   "outputs": [],
   "source": [
    "train_ratio = 0.90\n",
    "split_idx = int(train_ratio * len(text_data))\n",
    "train_data = text_data[:split_idx]\n",
    "val_data = text_data[split_idx:]"
   ]
  },
  {
   "cell_type": "code",
   "execution_count": 70,
   "metadata": {},
   "outputs": [],
   "source": [
    "\n",
    "torch.manual_seed(123)\n",
    "\n",
    "train_loader = create_dataloader_v1(\n",
    "    train_data,\n",
    "    batch_size=2,\n",
    "    max_length=model_configs['context_length'],\n",
    "    stride=model_configs['context_length'],\n",
    "    drop_last=True,\n",
    "    shuffle=True,\n",
    "    num_workers=0\n",
    ")\n",
    "\n",
    "val_loader = create_dataloader_v1(\n",
    "    val_data,\n",
    "    batch_size=2,\n",
    "    max_length=model_configs['context_length'],\n",
    "    stride=model_configs['context_length'],\n",
    "    drop_last=False,\n",
    "    shuffle=False,\n",
    "    num_workers=0\n",
    ")"
   ]
  },
  {
   "cell_type": "code",
   "execution_count": 71,
   "metadata": {},
   "outputs": [
    {
     "name": "stdout",
     "output_type": "stream",
     "text": [
      "Epoch 1 (Step 000005): Train loss 8.441, Val loss 8.556\n",
      "Every effor moves you,,,,,,,,,,,.                                      \n",
      "Epoch 2 (Step 000010): Train loss 6.831, Val loss 7.171\n",
      "Epoch 2 (Step 000015): Train loss 5.832, Val loss 6.529\n",
      "Every effor moves you.                                                 \n",
      "Epoch 3 (Step 000020): Train loss 5.170, Val loss 6.655\n",
      "Epoch 3 (Step 000025): Train loss 4.045, Val loss 6.226\n",
      "Every effor moves you know, and in a little--I to me, as his last word.     \"Oh, as you know, as, in the picture to have. \"I, as, and--and, he was his pictures\n",
      "Epoch 4 (Step 000030): Train loss 3.435, Val loss 6.341\n",
      "Epoch 4 (Step 000035): Train loss 2.944, Val loss 6.124\n",
      "Every effor moves you know, and in the picture--I to the fact of the last word. Gisburn's an to see it was not to the fact of his pictures--I had always to put it, and, and down, and in the of the\n",
      "Epoch 5 (Step 000040): Train loss 2.680, Val loss 6.215\n",
      "Epoch 5 (Step 000045): Train loss 1.935, Val loss 6.182\n",
      "Every effor moves you know, and in spite of, I had the fact with a little a and he was no I had the fact, and he was a smile behind his painting. \"--as he had been his own a \"There were days when I couldn\n",
      "Epoch 6 (Step 000050): Train loss 1.510, Val loss 6.291\n",
      "Every effor moves you know; and in spite of, his pictures--so handsome, in a flash that he had been--and here are the cigars you like.\"  He placed them at my elbow and as I had been the man of the hour. The younger\n",
      "Epoch 7 (Step 000055): Train loss 1.168, Val loss 6.286\n",
      "Epoch 7 (Step 000060): Train loss 0.875, Val loss 6.337\n",
      "Every effor moves you know, and in spite of, his pictures--so handsome, so charming, so disarming, and went on groping and muddling; then I looked at the donkey again. I saw that, when Stroud laid in the first stroke\n",
      "Epoch 8 (Step 000065): Train loss 0.521, Val loss 6.394\n",
      "Epoch 8 (Step 000070): Train loss 0.376, Val loss 6.486\n",
      "Every effor moves you know, and in spite of, his pictures--so handsome, so charming, so disarming, that one longed to cry out: \"Be dissatisfied with your leisure!\" as once one had longed to say: \"Be dissatisfied with your work\n",
      "Epoch 9 (Step 000075): Train loss 0.267, Val loss 6.542\n",
      "Epoch 9 (Step 000080): Train loss 0.200, Val loss 6.589\n",
      "Every effor moves you know, and in the picture for nothing--I told Mrs.  \"Once, when I looked up, I felt to see a smile behind his close grayish beard--as if he had the secret, and were amusing himself by holding it\n",
      "Epoch 10 (Step 000085): Train loss 0.163, Val loss 6.672\n",
      "Epoch 10 (Step 000090): Train loss 0.163, Val loss 6.661\n",
      "Every effor moves you'd never touched a brush.\"  And his tone told me in a flash that he never thought of anything else.  I moved away, instinctively embarrassed by my unexpected discovery; and as I turned, my eye fell on a small picture above\n"
     ]
    }
   ],
   "source": [
    "model = GPTModel(model_configs)\n",
    "\n",
    "model.to(device)\n",
    "\n",
    "optimizer = torch.optim.AdamW(model.parameters(), lr=4e-4, weight_decay=0.1)\n",
    "num_epochs = 10\n",
    "\n",
    "train_losses, val_losses, tokens_seen = train_model_simple(\n",
    "    model,\n",
    "    train_loader,\n",
    "    val_loader,\n",
    "    optimizer,\n",
    "    device,\n",
    "    num_epochs=num_epochs,\n",
    "    eval_freq=5,\n",
    "    eval_iter=5,\n",
    "    start_context=\"Every effor moves you\",\n",
    "    tokenizer=tokenizer,\n",
    ")"
   ]
  },
  {
   "cell_type": "code",
   "execution_count": 72,
   "metadata": {},
   "outputs": [
    {
     "data": {
      "text/plain": [
       "<torch._C.Generator at 0x7fdc401361b0>"
      ]
     },
     "execution_count": 72,
     "metadata": {},
     "output_type": "execute_result"
    }
   ],
   "source": [
    "torch.manual_seed(123)"
   ]
  },
  {
   "cell_type": "code",
   "execution_count": 73,
   "metadata": {},
   "outputs": [],
   "source": [
    "text_ids = text_to_token_ids(\"Every effort moves you\", tokenizer).to(device)\n",
    "\n",
    "\n",
    "token_ids = generate(\n",
    "    model=model,\n",
    "    idx=text_ids,\n",
    "    max_new_tokens=15,\n",
    "    context_size=model_configs['context_length'],\n",
    "    top_k=25,\n",
    "    temperature=1.4\n",
    ")"
   ]
  },
  {
   "cell_type": "code",
   "execution_count": 74,
   "metadata": {},
   "outputs": [
    {
     "name": "stdout",
     "output_type": "stream",
     "text": [
      "Output text:\n",
      " Every effort moves you of Hermia's tears rather a cheap genius--though a good fellow enough\n"
     ]
    }
   ],
   "source": [
    "print(\"Output text:\\n\", token_ids_to_text(token_ids, tokenizer))"
   ]
  }
 ],
 "metadata": {
  "kernelspec": {
   "display_name": "gpt_from_scratch",
   "language": "python",
   "name": "python3"
  },
  "language_info": {
   "codemirror_mode": {
    "name": "ipython",
    "version": 3
   },
   "file_extension": ".py",
   "mimetype": "text/x-python",
   "name": "python",
   "nbconvert_exporter": "python",
   "pygments_lexer": "ipython3",
   "version": "3.10.12"
  }
 },
 "nbformat": 4,
 "nbformat_minor": 2
}
