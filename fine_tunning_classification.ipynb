{
 "cells": [
  {
   "cell_type": "code",
   "execution_count": 29,
   "metadata": {},
   "outputs": [
    {
     "name": "stdout",
     "output_type": "stream",
     "text": [
      "The autoreload extension is already loaded. To reload it, use:\n",
      "  %reload_ext autoreload\n"
     ]
    }
   ],
   "source": [
    "%load_ext autoreload\n",
    "%autoreload 2\n"
   ]
  },
  {
   "cell_type": "code",
   "execution_count": 30,
   "metadata": {},
   "outputs": [],
   "source": [
    "import time\n",
    "import torch\n",
    "import tiktoken\n",
    "import pandas as pd\n",
    "from pathlib import Path\n",
    "from torch.utils.data import Dataset, DataLoader, random_split\n",
    "from src.train_classifier import (\n",
    "    calc_precision_loader,\n",
    "    calc_loss_loader,\n",
    "    calc_accuracy_loader,\n",
    "    train_classifier_simple,\n",
    ")\n",
    "from src.loader import SpamSMSDataset\n",
    "from src.utils import value_counts\n",
    "\n",
    "tokenizer = tiktoken.get_encoding(\"gpt2\")\n",
    "\n",
    "device = torch.device('cuda' if torch.cuda.is_available() else 'cpu')"
   ]
  },
  {
   "cell_type": "markdown",
   "metadata": {},
   "source": [
    "### Load data"
   ]
  },
  {
   "cell_type": "code",
   "execution_count": 31,
   "metadata": {},
   "outputs": [],
   "source": [
    "file_path = Path('data/SMSSpamCollection.tsv')"
   ]
  },
  {
   "cell_type": "markdown",
   "metadata": {},
   "source": [
    "### Create loader"
   ]
  },
  {
   "cell_type": "code",
   "execution_count": 32,
   "metadata": {},
   "outputs": [],
   "source": [
    "full_dataset = SpamSMSDataset(file_path, tokenizer, max_length=120)\n",
    "\n",
    "train_dataset, val_dataset, test_dataset = random_split(\n",
    "    full_dataset, lengths=[0.6, 0.1, 0.3]\n",
    ")\n",
    "\n",
    "train_loader = DataLoader(\n",
    "    dataset=train_dataset,\n",
    "    batch_size=8,\n",
    "    shuffle=True,\n",
    ")\n",
    "\n",
    "val_loader = DataLoader(\n",
    "    dataset=val_dataset,\n",
    "    batch_size=8,\n",
    "    shuffle=True,\n",
    ")\n",
    "\n",
    "test_loader = DataLoader(\n",
    "    dataset=test_dataset,\n",
    "    batch_size=8,\n",
    "    shuffle=True,\n",
    ")"
   ]
  },
  {
   "cell_type": "markdown",
   "metadata": {},
   "source": [
    "### Number of batches"
   ]
  },
  {
   "cell_type": "code",
   "execution_count": 33,
   "metadata": {},
   "outputs": [
    {
     "name": "stdout",
     "output_type": "stream",
     "text": [
      "number of training batches: 418\n",
      "number of validation batches: 70\n",
      "number of test batches: 209\n"
     ]
    }
   ],
   "source": [
    "\n",
    "print(f\"number of training batches: {len(train_loader)}\")\n",
    "print(f\"number of validation batches: {len(val_loader)}\")\n",
    "print(f\"number of test batches: {len(test_loader)}\")"
   ]
  },
  {
   "cell_type": "markdown",
   "metadata": {},
   "source": [
    "### Class distribution"
   ]
  },
  {
   "cell_type": "code",
   "execution_count": 34,
   "metadata": {},
   "outputs": [
    {
     "name": "stdout",
     "output_type": "stream",
     "text": [
      "class distribution in training loader: {0: 0.8702153110047847, 1: 0.1297846889952153}\n",
      "class distribution in validation loader: {0: 0.8473967684021544, 1: 0.1526032315978456}\n",
      "class distribution in test loader: {0: 0.8635547576301615, 1: 0.13644524236983843}\n"
     ]
    }
   ],
   "source": [
    "\n",
    "train_label_normalized = value_counts(train_loader, normalize=True)\n",
    "val_label_normalized = value_counts(val_loader, normalize=True)\n",
    "test_label_normalized = value_counts(test_loader, normalize=True)\n",
    "\n",
    "print(f\"class distribution in training loader: {train_label_normalized}\")\n",
    "print(f\"class distribution in validation loader: {val_label_normalized}\")\n",
    "print(f\"class distribution in test loader: {test_label_normalized}\")"
   ]
  },
  {
   "cell_type": "markdown",
   "metadata": {},
   "source": [
    "### Load OpenAI pretrained GPT2 model from HuggingFace"
   ]
  },
  {
   "cell_type": "code",
   "execution_count": 35,
   "metadata": {},
   "outputs": [
    {
     "data": {
      "text/plain": [
       "GPTModel(\n",
       "  (tok_emb): Embedding(50257, 768)\n",
       "  (pos_emb): Embedding(1024, 768)\n",
       "  (drop_emb): Dropout(p=0.0, inplace=False)\n",
       "  (transformer_decoders): Sequential(\n",
       "    (0): TransformerDecoder(\n",
       "      (multi_head_attention): MultiHeadAttention(\n",
       "        (W_query): Linear(in_features=768, out_features=768, bias=True)\n",
       "        (W_key): Linear(in_features=768, out_features=768, bias=True)\n",
       "        (W_value): Linear(in_features=768, out_features=768, bias=True)\n",
       "        (out_proj): Linear(in_features=768, out_features=768, bias=True)\n",
       "        (dropout): Dropout(p=0.0, inplace=False)\n",
       "      )\n",
       "      (norm_layer1): LayerNorm((768,), eps=1e-05, elementwise_affine=True)\n",
       "      (norm_layer2): LayerNorm((768,), eps=1e-05, elementwise_affine=True)\n",
       "      (feed_foward): FeedForward(\n",
       "        (layers): Sequential(\n",
       "          (0): Linear(in_features=768, out_features=3072, bias=True)\n",
       "          (1): GELU(approximate='none')\n",
       "          (2): Linear(in_features=3072, out_features=768, bias=True)\n",
       "        )\n",
       "      )\n",
       "      (drop_shortcut): Dropout(p=0.0, inplace=False)\n",
       "    )\n",
       "    (1): TransformerDecoder(\n",
       "      (multi_head_attention): MultiHeadAttention(\n",
       "        (W_query): Linear(in_features=768, out_features=768, bias=True)\n",
       "        (W_key): Linear(in_features=768, out_features=768, bias=True)\n",
       "        (W_value): Linear(in_features=768, out_features=768, bias=True)\n",
       "        (out_proj): Linear(in_features=768, out_features=768, bias=True)\n",
       "        (dropout): Dropout(p=0.0, inplace=False)\n",
       "      )\n",
       "      (norm_layer1): LayerNorm((768,), eps=1e-05, elementwise_affine=True)\n",
       "      (norm_layer2): LayerNorm((768,), eps=1e-05, elementwise_affine=True)\n",
       "      (feed_foward): FeedForward(\n",
       "        (layers): Sequential(\n",
       "          (0): Linear(in_features=768, out_features=3072, bias=True)\n",
       "          (1): GELU(approximate='none')\n",
       "          (2): Linear(in_features=3072, out_features=768, bias=True)\n",
       "        )\n",
       "      )\n",
       "      (drop_shortcut): Dropout(p=0.0, inplace=False)\n",
       "    )\n",
       "    (2): TransformerDecoder(\n",
       "      (multi_head_attention): MultiHeadAttention(\n",
       "        (W_query): Linear(in_features=768, out_features=768, bias=True)\n",
       "        (W_key): Linear(in_features=768, out_features=768, bias=True)\n",
       "        (W_value): Linear(in_features=768, out_features=768, bias=True)\n",
       "        (out_proj): Linear(in_features=768, out_features=768, bias=True)\n",
       "        (dropout): Dropout(p=0.0, inplace=False)\n",
       "      )\n",
       "      (norm_layer1): LayerNorm((768,), eps=1e-05, elementwise_affine=True)\n",
       "      (norm_layer2): LayerNorm((768,), eps=1e-05, elementwise_affine=True)\n",
       "      (feed_foward): FeedForward(\n",
       "        (layers): Sequential(\n",
       "          (0): Linear(in_features=768, out_features=3072, bias=True)\n",
       "          (1): GELU(approximate='none')\n",
       "          (2): Linear(in_features=3072, out_features=768, bias=True)\n",
       "        )\n",
       "      )\n",
       "      (drop_shortcut): Dropout(p=0.0, inplace=False)\n",
       "    )\n",
       "    (3): TransformerDecoder(\n",
       "      (multi_head_attention): MultiHeadAttention(\n",
       "        (W_query): Linear(in_features=768, out_features=768, bias=True)\n",
       "        (W_key): Linear(in_features=768, out_features=768, bias=True)\n",
       "        (W_value): Linear(in_features=768, out_features=768, bias=True)\n",
       "        (out_proj): Linear(in_features=768, out_features=768, bias=True)\n",
       "        (dropout): Dropout(p=0.0, inplace=False)\n",
       "      )\n",
       "      (norm_layer1): LayerNorm((768,), eps=1e-05, elementwise_affine=True)\n",
       "      (norm_layer2): LayerNorm((768,), eps=1e-05, elementwise_affine=True)\n",
       "      (feed_foward): FeedForward(\n",
       "        (layers): Sequential(\n",
       "          (0): Linear(in_features=768, out_features=3072, bias=True)\n",
       "          (1): GELU(approximate='none')\n",
       "          (2): Linear(in_features=3072, out_features=768, bias=True)\n",
       "        )\n",
       "      )\n",
       "      (drop_shortcut): Dropout(p=0.0, inplace=False)\n",
       "    )\n",
       "    (4): TransformerDecoder(\n",
       "      (multi_head_attention): MultiHeadAttention(\n",
       "        (W_query): Linear(in_features=768, out_features=768, bias=True)\n",
       "        (W_key): Linear(in_features=768, out_features=768, bias=True)\n",
       "        (W_value): Linear(in_features=768, out_features=768, bias=True)\n",
       "        (out_proj): Linear(in_features=768, out_features=768, bias=True)\n",
       "        (dropout): Dropout(p=0.0, inplace=False)\n",
       "      )\n",
       "      (norm_layer1): LayerNorm((768,), eps=1e-05, elementwise_affine=True)\n",
       "      (norm_layer2): LayerNorm((768,), eps=1e-05, elementwise_affine=True)\n",
       "      (feed_foward): FeedForward(\n",
       "        (layers): Sequential(\n",
       "          (0): Linear(in_features=768, out_features=3072, bias=True)\n",
       "          (1): GELU(approximate='none')\n",
       "          (2): Linear(in_features=3072, out_features=768, bias=True)\n",
       "        )\n",
       "      )\n",
       "      (drop_shortcut): Dropout(p=0.0, inplace=False)\n",
       "    )\n",
       "    (5): TransformerDecoder(\n",
       "      (multi_head_attention): MultiHeadAttention(\n",
       "        (W_query): Linear(in_features=768, out_features=768, bias=True)\n",
       "        (W_key): Linear(in_features=768, out_features=768, bias=True)\n",
       "        (W_value): Linear(in_features=768, out_features=768, bias=True)\n",
       "        (out_proj): Linear(in_features=768, out_features=768, bias=True)\n",
       "        (dropout): Dropout(p=0.0, inplace=False)\n",
       "      )\n",
       "      (norm_layer1): LayerNorm((768,), eps=1e-05, elementwise_affine=True)\n",
       "      (norm_layer2): LayerNorm((768,), eps=1e-05, elementwise_affine=True)\n",
       "      (feed_foward): FeedForward(\n",
       "        (layers): Sequential(\n",
       "          (0): Linear(in_features=768, out_features=3072, bias=True)\n",
       "          (1): GELU(approximate='none')\n",
       "          (2): Linear(in_features=3072, out_features=768, bias=True)\n",
       "        )\n",
       "      )\n",
       "      (drop_shortcut): Dropout(p=0.0, inplace=False)\n",
       "    )\n",
       "    (6): TransformerDecoder(\n",
       "      (multi_head_attention): MultiHeadAttention(\n",
       "        (W_query): Linear(in_features=768, out_features=768, bias=True)\n",
       "        (W_key): Linear(in_features=768, out_features=768, bias=True)\n",
       "        (W_value): Linear(in_features=768, out_features=768, bias=True)\n",
       "        (out_proj): Linear(in_features=768, out_features=768, bias=True)\n",
       "        (dropout): Dropout(p=0.0, inplace=False)\n",
       "      )\n",
       "      (norm_layer1): LayerNorm((768,), eps=1e-05, elementwise_affine=True)\n",
       "      (norm_layer2): LayerNorm((768,), eps=1e-05, elementwise_affine=True)\n",
       "      (feed_foward): FeedForward(\n",
       "        (layers): Sequential(\n",
       "          (0): Linear(in_features=768, out_features=3072, bias=True)\n",
       "          (1): GELU(approximate='none')\n",
       "          (2): Linear(in_features=3072, out_features=768, bias=True)\n",
       "        )\n",
       "      )\n",
       "      (drop_shortcut): Dropout(p=0.0, inplace=False)\n",
       "    )\n",
       "    (7): TransformerDecoder(\n",
       "      (multi_head_attention): MultiHeadAttention(\n",
       "        (W_query): Linear(in_features=768, out_features=768, bias=True)\n",
       "        (W_key): Linear(in_features=768, out_features=768, bias=True)\n",
       "        (W_value): Linear(in_features=768, out_features=768, bias=True)\n",
       "        (out_proj): Linear(in_features=768, out_features=768, bias=True)\n",
       "        (dropout): Dropout(p=0.0, inplace=False)\n",
       "      )\n",
       "      (norm_layer1): LayerNorm((768,), eps=1e-05, elementwise_affine=True)\n",
       "      (norm_layer2): LayerNorm((768,), eps=1e-05, elementwise_affine=True)\n",
       "      (feed_foward): FeedForward(\n",
       "        (layers): Sequential(\n",
       "          (0): Linear(in_features=768, out_features=3072, bias=True)\n",
       "          (1): GELU(approximate='none')\n",
       "          (2): Linear(in_features=3072, out_features=768, bias=True)\n",
       "        )\n",
       "      )\n",
       "      (drop_shortcut): Dropout(p=0.0, inplace=False)\n",
       "    )\n",
       "    (8): TransformerDecoder(\n",
       "      (multi_head_attention): MultiHeadAttention(\n",
       "        (W_query): Linear(in_features=768, out_features=768, bias=True)\n",
       "        (W_key): Linear(in_features=768, out_features=768, bias=True)\n",
       "        (W_value): Linear(in_features=768, out_features=768, bias=True)\n",
       "        (out_proj): Linear(in_features=768, out_features=768, bias=True)\n",
       "        (dropout): Dropout(p=0.0, inplace=False)\n",
       "      )\n",
       "      (norm_layer1): LayerNorm((768,), eps=1e-05, elementwise_affine=True)\n",
       "      (norm_layer2): LayerNorm((768,), eps=1e-05, elementwise_affine=True)\n",
       "      (feed_foward): FeedForward(\n",
       "        (layers): Sequential(\n",
       "          (0): Linear(in_features=768, out_features=3072, bias=True)\n",
       "          (1): GELU(approximate='none')\n",
       "          (2): Linear(in_features=3072, out_features=768, bias=True)\n",
       "        )\n",
       "      )\n",
       "      (drop_shortcut): Dropout(p=0.0, inplace=False)\n",
       "    )\n",
       "    (9): TransformerDecoder(\n",
       "      (multi_head_attention): MultiHeadAttention(\n",
       "        (W_query): Linear(in_features=768, out_features=768, bias=True)\n",
       "        (W_key): Linear(in_features=768, out_features=768, bias=True)\n",
       "        (W_value): Linear(in_features=768, out_features=768, bias=True)\n",
       "        (out_proj): Linear(in_features=768, out_features=768, bias=True)\n",
       "        (dropout): Dropout(p=0.0, inplace=False)\n",
       "      )\n",
       "      (norm_layer1): LayerNorm((768,), eps=1e-05, elementwise_affine=True)\n",
       "      (norm_layer2): LayerNorm((768,), eps=1e-05, elementwise_affine=True)\n",
       "      (feed_foward): FeedForward(\n",
       "        (layers): Sequential(\n",
       "          (0): Linear(in_features=768, out_features=3072, bias=True)\n",
       "          (1): GELU(approximate='none')\n",
       "          (2): Linear(in_features=3072, out_features=768, bias=True)\n",
       "        )\n",
       "      )\n",
       "      (drop_shortcut): Dropout(p=0.0, inplace=False)\n",
       "    )\n",
       "    (10): TransformerDecoder(\n",
       "      (multi_head_attention): MultiHeadAttention(\n",
       "        (W_query): Linear(in_features=768, out_features=768, bias=True)\n",
       "        (W_key): Linear(in_features=768, out_features=768, bias=True)\n",
       "        (W_value): Linear(in_features=768, out_features=768, bias=True)\n",
       "        (out_proj): Linear(in_features=768, out_features=768, bias=True)\n",
       "        (dropout): Dropout(p=0.0, inplace=False)\n",
       "      )\n",
       "      (norm_layer1): LayerNorm((768,), eps=1e-05, elementwise_affine=True)\n",
       "      (norm_layer2): LayerNorm((768,), eps=1e-05, elementwise_affine=True)\n",
       "      (feed_foward): FeedForward(\n",
       "        (layers): Sequential(\n",
       "          (0): Linear(in_features=768, out_features=3072, bias=True)\n",
       "          (1): GELU(approximate='none')\n",
       "          (2): Linear(in_features=3072, out_features=768, bias=True)\n",
       "        )\n",
       "      )\n",
       "      (drop_shortcut): Dropout(p=0.0, inplace=False)\n",
       "    )\n",
       "    (11): TransformerDecoder(\n",
       "      (multi_head_attention): MultiHeadAttention(\n",
       "        (W_query): Linear(in_features=768, out_features=768, bias=True)\n",
       "        (W_key): Linear(in_features=768, out_features=768, bias=True)\n",
       "        (W_value): Linear(in_features=768, out_features=768, bias=True)\n",
       "        (out_proj): Linear(in_features=768, out_features=768, bias=True)\n",
       "        (dropout): Dropout(p=0.0, inplace=False)\n",
       "      )\n",
       "      (norm_layer1): LayerNorm((768,), eps=1e-05, elementwise_affine=True)\n",
       "      (norm_layer2): LayerNorm((768,), eps=1e-05, elementwise_affine=True)\n",
       "      (feed_foward): FeedForward(\n",
       "        (layers): Sequential(\n",
       "          (0): Linear(in_features=768, out_features=3072, bias=True)\n",
       "          (1): GELU(approximate='none')\n",
       "          (2): Linear(in_features=3072, out_features=768, bias=True)\n",
       "        )\n",
       "      )\n",
       "      (drop_shortcut): Dropout(p=0.0, inplace=False)\n",
       "    )\n",
       "  )\n",
       "  (final_norm): LayerNorm((768,), eps=1e-05, elementwise_affine=True)\n",
       "  (out): Linear(in_features=768, out_features=50257, bias=False)\n",
       ")"
      ]
     },
     "execution_count": 35,
     "metadata": {},
     "output_type": "execute_result"
    }
   ],
   "source": [
    "import torch\n",
    "from transformers import GPT2Model\n",
    "from src.model import MODEL_ARCHITECTURES, GPTModel\n",
    "from src.utils import load_weights\n",
    "\n",
    "# Choose the default architecture\n",
    "base_configs = MODEL_ARCHITECTURES['gpt2-small']\n",
    "custom_configs = {\n",
    "    \"vocab_size\": 50257,    # Vocabulary size\n",
    "    \"context_length\": 1024, # Context length\n",
    "    \"drop_rate\": 0.0,  # Dropout rate\n",
    "    \"qkv_bias\": True,  # Query-Key-Value bias\n",
    "}\n",
    "\n",
    "model_configs = base_configs | custom_configs\n",
    "\n",
    "# Create a model sketch\n",
    "gpt = GPTModel(model_configs)\n",
    "\n",
    "# Load weights from HuggingFace's model\n",
    "gpt_pretrained = GPT2Model.from_pretrained(\"openai-community/gpt2\", cache_dir=\"checkpoints\")\n",
    "load_weights(gpt, gpt_pretrained, model_configs)\n",
    "\n",
    "# Move to GPU if available\n",
    "gpt.to(device)"
   ]
  },
  {
   "cell_type": "markdown",
   "metadata": {},
   "source": [
    "### Check if the model can generate reasonable text"
   ]
  },
  {
   "cell_type": "code",
   "execution_count": 36,
   "metadata": {},
   "outputs": [
    {
     "name": "stdout",
     "output_type": "stream",
     "text": [
      "========================== Example 1 ==========================\n",
      "\n",
      "Every effort moves you forward.\n",
      "\n",
      "The first step is to understand the importance of your work\n",
      "\n",
      "========================== Example 2 ==========================\n",
      "\n",
      "Is the following text 'spam'? Answer with 'yes' or 'no': 'You are a winner you have been specially selected to receive $ 1000 cash or a $ 2000 award.'\n",
      "\n",
      "The following text 'spam'? Answer with 'yes' or 'no': 'You are a winner\n"
     ]
    }
   ],
   "source": [
    "from src.utils import generate_sequence\n",
    "from src.token import token_ids_to_text, text_to_token_ids\n",
    "\n",
    "text_1 = \"Every effort moves you\"\n",
    "\n",
    "token_ids = generate_sequence(\n",
    "    model=gpt,\n",
    "    idx=text_to_token_ids(text_1, tokenizer).to(device),\n",
    "    max_new_tokens=15,\n",
    "    context_size=model_configs['context_length']\n",
    ")\n",
    "\n",
    "print(\"========================== Example 1 ==========================\\n\")\n",
    "print(token_ids_to_text(token_ids, tokenizer))\n",
    "\n",
    "print(\"\\n========================== Example 2 ==========================\\n\")\n",
    "\n",
    "text_2 = (\n",
    "    \"Is the following text 'spam'? Answer with 'yes' or 'no':\" \n",
    "    \" 'You are a winner you have been specially\" \n",
    "    \" selected to receive $ 1000 cash or a $ 2000 award.'\"\n",
    ")\n",
    "\n",
    "token_ids = generate_sequence(\n",
    "    model=gpt,\n",
    "    idx=text_to_token_ids(text_2, tokenizer).to(device),\n",
    "    max_new_tokens=23,\n",
    "    context_size=model_configs['context_length']\n",
    ")\n",
    "\n",
    "print(token_ids_to_text(token_ids, tokenizer))"
   ]
  },
  {
   "cell_type": "markdown",
   "metadata": {},
   "source": [
    "### Adjust the model output to fit a classification setup"
   ]
  },
  {
   "cell_type": "code",
   "execution_count": 37,
   "metadata": {},
   "outputs": [],
   "source": [
    "num_classses = 2\n",
    "\n",
    "gpt.out = torch.nn.Linear(\n",
    "    in_features=model_configs['emb_dim'],\n",
    "    out_features=num_classses\n",
    ").to(device)\n",
    "\n",
    "# Make the last transformer block trainable\n",
    "for param in gpt.transformer_decoders[-1].parameters():\n",
    "    param.requires_grad = True\n",
    "\n",
    "# Make the last normalization block trainable\n",
    "for param in gpt.final_norm.parameters():\n",
    "    param.requires_grad = True"
   ]
  },
  {
   "cell_type": "markdown",
   "metadata": {},
   "source": [
    "### Check the new output format"
   ]
  },
  {
   "cell_type": "code",
   "execution_count": 38,
   "metadata": {},
   "outputs": [
    {
     "name": "stdout",
     "output_type": "stream",
     "text": [
      "Inputs: tensor([[5211,  345,  423,  640]], device='cuda:0')\n",
      "Inputs dimensions: torch.Size([1, 4])\n",
      "Outputs:\n",
      " tensor([[[1.3114, 1.6442],\n",
      "         [4.0159, 3.1449],\n",
      "         [2.1110, 3.9480],\n",
      "         [2.4801, 4.5076]]], device='cuda:0')\n",
      "Outpus dimensions: torch.Size([1, 4, 2])\n"
     ]
    }
   ],
   "source": [
    "inputs = tokenizer.encode(\"Do you have time\")\n",
    "inputs = torch.tensor(inputs).unsqueeze(0).to(device)\n",
    "print(\"Inputs:\", inputs)\n",
    "print(\"Inputs dimensions:\", inputs.shape)\n",
    "\n",
    "with torch.no_grad():\n",
    "    outputs = gpt(inputs)\n",
    "print(\"Outputs:\\n\", outputs)\n",
    "print(\"Outpus dimensions:\", outputs.shape)"
   ]
  },
  {
   "cell_type": "markdown",
   "metadata": {},
   "source": [
    "### Check model performance without fine-tunning it"
   ]
  },
  {
   "cell_type": "code",
   "execution_count": 39,
   "metadata": {},
   "outputs": [
    {
     "name": "stdout",
     "output_type": "stream",
     "text": [
      "Training accuracy: 12.25%\n",
      "Validation accuracy: 15.00%\n",
      "Validation accuracy: 13.75%\n"
     ]
    }
   ],
   "source": [
    "num_batches = 50\n",
    "\n",
    "train_accuracy = calc_accuracy_loader(\n",
    "    train_loader, gpt, device, num_batches=num_batches\n",
    ")\n",
    "val_accuracy = calc_accuracy_loader(\n",
    "    val_loader, gpt, device, num_batches=num_batches\n",
    ")\n",
    "test_accuracy = calc_accuracy_loader(\n",
    "    test_loader, gpt, device, num_batches=num_batches\n",
    ")\n",
    "\n",
    "print(f\"Training accuracy: {train_accuracy*100:.2f}%\")\n",
    "print(f\"Validation accuracy: {val_accuracy*100:.2f}%\")\n",
    "print(f\"Validation accuracy: {test_accuracy*100:.2f}%\")"
   ]
  },
  {
   "cell_type": "code",
   "execution_count": 40,
   "metadata": {},
   "outputs": [
    {
     "name": "stdout",
     "output_type": "stream",
     "text": [
      "Training precision: 13.75%\n",
      "Validation precision: 16.00%\n",
      "Test precision: 10.00%\n"
     ]
    }
   ],
   "source": [
    "train_precision = calc_precision_loader(\n",
    "    train_loader, gpt, device, num_batches=num_batches\n",
    ")\n",
    "val_precision = calc_precision_loader(\n",
    "    val_loader, gpt, device, num_batches=num_batches\n",
    ")\n",
    "test_precision = calc_precision_loader(\n",
    "    test_loader, gpt, device, num_batches=num_batches\n",
    ")\n",
    "\n",
    "print(f\"Training precision: {train_precision*100:.2f}%\")\n",
    "print(f\"Validation precision: {val_precision*100:.2f}%\")\n",
    "print(f\"Test precision: {test_precision*100:.2f}%\")"
   ]
  },
  {
   "cell_type": "code",
   "execution_count": 41,
   "metadata": {},
   "outputs": [
    {
     "name": "stdout",
     "output_type": "stream",
     "text": [
      "Training loss: 3.755\n",
      "Validation loss: 3.609\n",
      "Test loss: 3.639\n"
     ]
    }
   ],
   "source": [
    "with torch.no_grad():\n",
    "    train_loss = calc_loss_loader(\n",
    "        train_loader, gpt, device, num_batches=num_batches\n",
    "    )\n",
    "    val_loss = calc_loss_loader(val_loader, gpt, device, num_batches=num_batches)\n",
    "    test_loss = calc_loss_loader(test_loader, gpt, device, num_batches=num_batches)\n",
    "\n",
    "print(f\"Training loss: {train_loss:.3f}\")\n",
    "print(f\"Validation loss: {val_loss:.3f}\")\n",
    "print(f\"Test loss: {test_loss:.3f}\")"
   ]
  },
  {
   "cell_type": "markdown",
   "metadata": {},
   "source": [
    "### Fine tune!"
   ]
  },
  {
   "cell_type": "code",
   "execution_count": 42,
   "metadata": {},
   "outputs": [
    {
     "name": "stdout",
     "output_type": "stream",
     "text": [
      "Ep 1 (Step 000000): Train loss 1.852, Val loss 1.815\n",
      "Ep 1 (Step 000050): Train loss 0.246, Val loss 0.236\n",
      "Ep 1 (Step 000100): Train loss 0.266, Val loss 0.583\n",
      "Ep 1 (Step 000150): Train loss 0.069, Val loss 0.079\n",
      "Ep 1 (Step 000200): Train loss 0.052, Val loss 0.105\n",
      "Ep 1 (Step 000250): Train loss 0.058, Val loss 0.096\n",
      "Ep 1 (Step 000300): Train loss 0.069, Val loss 0.058\n",
      "Ep 1 (Step 000350): Train loss 0.043, Val loss 0.071\n",
      "Ep 1 (Step 000400): Train loss 0.042, Val loss 0.083\n",
      "Training accuracy: 97.50% | Validation accuracy: 96.25%\n",
      "Ep 2 (Step 000450): Train loss 0.005, Val loss 0.140\n",
      "Ep 2 (Step 000500): Train loss 0.072, Val loss 0.028\n",
      "Ep 2 (Step 000550): Train loss 0.009, Val loss 0.008\n",
      "Ep 2 (Step 000600): Train loss 0.123, Val loss 0.008\n",
      "Ep 2 (Step 000650): Train loss 0.066, Val loss 0.046\n",
      "Ep 2 (Step 000700): Train loss 0.066, Val loss 0.026\n",
      "Ep 2 (Step 000750): Train loss 0.060, Val loss 0.101\n",
      "Ep 2 (Step 000800): Train loss 0.025, Val loss 0.100\n",
      "Training accuracy: 100.00% | Validation accuracy: 97.50%\n",
      "Ep 3 (Step 000850): Train loss 0.005, Val loss 0.104\n",
      "Ep 3 (Step 000900): Train loss 0.003, Val loss 0.147\n",
      "Ep 3 (Step 000950): Train loss 0.004, Val loss 0.068\n",
      "Ep 3 (Step 001000): Train loss 0.005, Val loss 0.100\n",
      "Ep 3 (Step 001050): Train loss 0.014, Val loss 0.017\n",
      "Ep 3 (Step 001100): Train loss 0.038, Val loss 0.032\n",
      "Ep 3 (Step 001150): Train loss 0.003, Val loss 0.147\n",
      "Ep 3 (Step 001200): Train loss 0.005, Val loss 0.072\n",
      "Ep 3 (Step 001250): Train loss 0.015, Val loss 0.002\n",
      "Training accuracy: 100.00% | Validation accuracy: 98.75%\n",
      "Ep 4 (Step 001300): Train loss 0.001, Val loss 0.039\n",
      "Ep 4 (Step 001350): Train loss 0.121, Val loss 0.211\n",
      "Ep 4 (Step 001400): Train loss 0.001, Val loss 0.082\n",
      "Ep 4 (Step 001450): Train loss 0.009, Val loss 0.007\n",
      "Ep 4 (Step 001500): Train loss 0.001, Val loss 0.077\n",
      "Ep 4 (Step 001550): Train loss 0.005, Val loss 0.122\n",
      "Ep 4 (Step 001600): Train loss 0.159, Val loss 0.139\n",
      "Ep 4 (Step 001650): Train loss 0.095, Val loss 0.011\n",
      "Training accuracy: 100.00% | Validation accuracy: 98.75%\n",
      "Ep 5 (Step 001700): Train loss 0.007, Val loss 0.010\n",
      "Ep 5 (Step 001750): Train loss 0.001, Val loss 0.014\n",
      "Ep 5 (Step 001800): Train loss 0.058, Val loss 0.019\n",
      "Ep 5 (Step 001850): Train loss 0.000, Val loss 0.042\n",
      "Ep 5 (Step 001900): Train loss 0.000, Val loss 0.091\n",
      "Ep 5 (Step 001950): Train loss 0.004, Val loss 0.034\n",
      "Ep 5 (Step 002000): Train loss 0.001, Val loss 0.102\n",
      "Ep 5 (Step 002050): Train loss 0.001, Val loss 0.006\n",
      "Training accuracy: 100.00% | Validation accuracy: 100.00%\n",
      "Training completed in  3.52 minutes.\n"
     ]
    }
   ],
   "source": [
    "start_time = time.time()\n",
    "torch.manual_seed(123)\n",
    "\n",
    "optimizer = torch.optim.AdamW(gpt.parameters(), lr=5e-5, weight_decay=0.1)\n",
    "num_epochs = 5\n",
    "\n",
    "train_losses, val_losses, train_precision, val_precision, examples_seen = (\n",
    "    train_classifier_simple(\n",
    "        gpt,\n",
    "        train_loader,\n",
    "        val_loader,\n",
    "        optimizer,\n",
    "        device,\n",
    "        num_epochs=num_epochs,\n",
    "        eval_freq=50,\n",
    "        eval_iter=10,\n",
    "        tokenizer=tokenizer,\n",
    "    )\n",
    ")\n",
    "\n",
    "end_time = time.time()\n",
    "execution_time_minuter = (end_time - start_time) / 60\n",
    "\n",
    "print(f\"Training completed in {execution_time_minuter: .2f} minutes.\")"
   ]
  },
  {
   "cell_type": "code",
   "execution_count": 43,
   "metadata": {},
   "outputs": [],
   "source": [
    "torch.save({\n",
    "    \"model_state_dcit\": gpt.state_dict(),\n",
    "    \"optimize_state_dict\": optimizer.state_dict(),\n",
    "    },\n",
    "    \"data/model_and_optimizer.pth\"\n",
    ")"
   ]
  },
  {
   "cell_type": "code",
   "execution_count": 44,
   "metadata": {},
   "outputs": [],
   "source": [
    "import matplotlib.pyplot as plt\n",
    "import seaborn as sns"
   ]
  },
  {
   "cell_type": "code",
   "execution_count": 45,
   "metadata": {},
   "outputs": [],
   "source": [
    "def to_cpu(value):\n",
    "    if isinstance(value, torch.tensor):\n",
    "        return tensor.to('cpu')\n",
    "    return value\n",
    "\n",
    "def tensors_to_cpu(tensor_list):\n",
    "    return [to_cpu(tensor) for tensor in tensor_list]"
   ]
  },
  {
   "cell_type": "code",
   "execution_count": 46,
   "metadata": {},
   "outputs": [],
   "source": [
    "def plot_values(epochs_seen, examples_seen, train_values, val_values, label='loss'):\n",
    "    fig, ax1 = plt.subplots(figsize=(5,3))\n",
    "\n",
    "    sns.lineplot(x=epochs_seen, y=train_values, label=f\"Training {label}\", ax=ax1)\n",
    "    sns.lineplot(x=epochs_seen, y=val_values, label=f\"Validation {label}\", linestyle=\"-.\", ax=ax1)\n",
    "\n",
    "    ax1.set_xlabel(\"Epochs\")\n",
    "    ax1.set_ylabel(label.capitalize())\n",
    "    ax1.legend()\n",
    "\n",
    "    ax2 = ax1.twiny()\n",
    "    sns.lineplot(x=examples_seen, y=train_values, alpha=0, ax=ax2)\n",
    "    ax2.set_xlabel(\"Examples seen\")\n",
    "\n",
    "    fig.tight_layout()\n",
    "    plt.savefig(f\"{label}-plot.pdf\")\n",
    "    plt.show()\n"
   ]
  },
  {
   "cell_type": "code",
   "execution_count": 47,
   "metadata": {},
   "outputs": [],
   "source": [
    "epochs_tensor = torch.linspace(0, num_epochs, len(train_losses))\n",
    "examples_seen_tensor = torch.linspace(0, examples_seen, len(train_losses))"
   ]
  },
  {
   "cell_type": "code",
   "execution_count": 48,
   "metadata": {},
   "outputs": [
    {
     "data": {
      "image/png": "[encoded data removed]",
      "text/plain": [
       "<Figure size 500x300 with 2 Axes>"
      ]
     },
     "metadata": {},
     "output_type": "display_data"
    }
   ],
   "source": [
    "plot_values(epochs_tensor, examples_seen_tensor, train_losses, val_losses)"
   ]
  },
  {
   "cell_type": "code",
   "execution_count": 49,
   "metadata": {},
   "outputs": [
    {
     "data": {
      "image/png": "[encoded data removed]",
      "text/plain": [
       "<Figure size 500x300 with 2 Axes>"
      ]
     },
     "metadata": {},
     "output_type": "display_data"
    }
   ],
   "source": [
    "epochs_tensor = torch.linspace(0, num_epochs, len(train_precision))\n",
    "examples_seen_tensor = torch.linspace(0, examples_seen, len(train_precision))\n",
    "plot_values(epochs_tensor, examples_seen_tensor, train_precision, val_precision, label='precision')"
   ]
  }
 ],
 "metadata": {
  "kernelspec": {
   "display_name": "gpt_from_scratch",
   "language": "python",
   "name": "python3"
  },
  "language_info": {
   "codemirror_mode": {
    "name": "ipython",
    "version": 3
   },
   "file_extension": ".py",
   "mimetype": "text/x-python",
   "name": "python",
   "nbconvert_exporter": "python",
   "pygments_lexer": "ipython3",
   "version": "3.10.12"
  }
 },
 "nbformat": 4,
 "nbformat_minor": 2
}
